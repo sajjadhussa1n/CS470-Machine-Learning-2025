{
  "nbformat": 4,
  "nbformat_minor": 0,
  "metadata": {
    "colab": {
      "provenance": []
    },
    "kernelspec": {
      "name": "python3",
      "display_name": "Python 3"
    },
    "language_info": {
      "name": "python"
    }
  },
  "cells": [
    {
      "cell_type": "markdown",
      "source": [
        "# Introduction to NumPy for Machine Learning\n",
        "In this notebook, we will practice Python with NumPy, the fundamental package for scientific computing in Python. Understanding NumPy is essential for Machine Learning because:\n",
        "\n",
        "- NumPy provides efficient multi-dimensional array operations\n",
        "\n",
        "- Most ML libraries (scikit-learn, TensorFlow, PyTorch) use NumPy arrays internally\n",
        "\n",
        "- Numerical computations on arrays are much faster than Python lists\n",
        "\n",
        "- Linear algebra operations are built-in and optimized\n",
        "\n",
        "We will go step by step:\n",
        "\n",
        "- NumPy basics (arrays, data types, attributes)\n",
        "\n",
        "- Array creation methods\n",
        "\n",
        "- Array indexing and slicing\n",
        "\n",
        "- Array operations and broadcasting\n",
        "\n",
        "- Mathematical functions\n",
        "\n",
        "- Linear algebra operations\n",
        "\n",
        "- Random number generation\n",
        "\n",
        "- Reshaping and manipulating arrays\n",
        "\n",
        "Run each code cell and read the explanation carefully. Try small variations yourself!"
      ],
      "metadata": {
        "id": "DSY8EpK9qwge"
      }
    },
    {
      "cell_type": "markdown",
      "source": [
        "## Import NumPy"
      ],
      "metadata": {
        "id": "-LCsgzSorSfe"
      }
    },
    {
      "cell_type": "code",
      "execution_count": null,
      "metadata": {
        "id": "bMcFB_RvquXJ"
      },
      "outputs": [],
      "source": [
        "import numpy as np\n",
        "\n",
        "# Check NumPy version\n",
        "print(\"NumPy version:\", np.__version__)"
      ]
    },
    {
      "cell_type": "markdown",
      "source": [
        "## What is NumPy?\n",
        "NumPy (Numerical Python) is the core library for numerical computing in Python. It provides:\n",
        "\n",
        "- ndarray: Efficient multi-dimensional array object\n",
        "\n",
        "- Mathematical functions for array operations\n",
        "\n",
        "- Tools for integrating C/C++ and Fortran code\n",
        "\n",
        "- Linear algebra, Fourier transform, and random number capabilities\n",
        "\n",
        "The key advantage over Python lists is speed and convenience for numerical operations."
      ],
      "metadata": {
        "id": "ZyWHmJBHrZVp"
      }
    },
    {
      "cell_type": "code",
      "source": [
        "# Simple comparison: Python list vs NumPy array\n",
        "import time\n",
        "\n",
        "# Using Python list\n",
        "python_list = list(range(1000000))\n",
        "start_time = time.time()\n",
        "result_list = [x * 2 for x in python_list]\n",
        "list_time = time.time() - start_time\n",
        "\n",
        "# Using NumPy array\n",
        "numpy_array = np.arange(1000000)\n",
        "start_time = time.time()\n",
        "result_array = numpy_array * 2\n",
        "array_time = time.time() - start_time\n",
        "\n",
        "print(f\"Python list time: {list_time:.4f} seconds\")\n",
        "print(f\"NumPy array time: {array_time:.4f} seconds\")\n",
        "print(f\"NumPy is {list_time/array_time:.1f}x faster!\")"
      ],
      "metadata": {
        "id": "hni3CspSrmL8"
      },
      "execution_count": null,
      "outputs": []
    },
    {
      "cell_type": "markdown",
      "source": [
        "## NumPy Arrays: The ndarray\n",
        "The ndarray ```n-dimensional array``` is NumPy's core data structure. Key properties:\n",
        "\n",
        "- Homogeneous: All elements must be the same data type\n",
        "\n",
        "- Fixed size: Size cannot be changed after creation (unlike Python lists)\n",
        "\n",
        "- Efficient: Optimized for numerical operations\n",
        "\n",
        "- Multi-dimensional: Can have 1, 2, 3, or more dimensions"
      ],
      "metadata": {
        "id": "h7qSP-a8rrAB"
      }
    },
    {
      "cell_type": "code",
      "source": [
        "# Creating a simple 1D array\n",
        "arr1d = np.array([1, 2, 3, 4, 5])\n",
        "print(\"1D Array:\", arr1d)\n",
        "print(\"Type:\", type(arr1d))\n",
        "print(\"Shape:\", arr1d.shape)\n",
        "print(\"Dimensions:\", arr1d.ndim)\n",
        "print(\"Data type:\", arr1d.dtype)\n",
        "print(\"Size (total elements):\", arr1d.size)"
      ],
      "metadata": {
        "id": "gQ90R3wmr8Yv"
      },
      "execution_count": null,
      "outputs": []
    },
    {
      "cell_type": "markdown",
      "source": [
        "## Creating NumPy Arrays\n",
        "There are multiple ways to create NumPy arrays:"
      ],
      "metadata": {
        "id": "RY024Q4bsBsm"
      }
    },
    {
      "cell_type": "code",
      "source": [
        "# From Python lists\n",
        "list_data = [1, 2, 3, 4, 5]\n",
        "arr_from_list = np.array(list_data)\n",
        "print(\"From list:\", arr_from_list)"
      ],
      "metadata": {
        "id": "QapkCar3sIfI"
      },
      "execution_count": null,
      "outputs": []
    },
    {
      "cell_type": "code",
      "source": [
        "# 2D array from nested lists\n",
        "matrix_data = [[1, 2, 3], [4, 5, 6], [7, 8, 9]]\n",
        "arr_2d = np.array(matrix_data)\n",
        "print(\"\\n2D Array:\")\n",
        "print(arr_2d)\n",
        "print(\"Shape:\", arr_2d.shape)"
      ],
      "metadata": {
        "id": "Bi1tnHwpKY6O"
      },
      "execution_count": null,
      "outputs": []
    },
    {
      "cell_type": "markdown",
      "source": [
        "## Special Array Creation Functions\n",
        "NumPy provides many functions to create arrays with specific patterns:"
      ],
      "metadata": {
        "id": "lntVu6VssLtT"
      }
    },
    {
      "cell_type": "code",
      "source": [
        "# Array of zeros\n",
        "zeros_arr = np.zeros(5)\n",
        "print(\"Zeros:\", zeros_arr)"
      ],
      "metadata": {
        "id": "up0UA-b3sVEW"
      },
      "execution_count": null,
      "outputs": []
    },
    {
      "cell_type": "code",
      "source": [
        "# Array of ones\n",
        "ones_arr = np.ones((3, 3))  # 3x3 matrix of ones\n",
        "print(\"\\nOnes (3x3):\")\n",
        "print(ones_arr)"
      ],
      "metadata": {
        "id": "VKzQVRYmsZLe"
      },
      "execution_count": null,
      "outputs": []
    },
    {
      "cell_type": "code",
      "source": [
        "# Identity matrix\n",
        "identity_matrix = np.eye(4)\n",
        "print(\"\\nIdentity Matrix (4x4):\")\n",
        "print(identity_matrix)"
      ],
      "metadata": {
        "id": "2ZRrM1RXsZIR"
      },
      "execution_count": null,
      "outputs": []
    },
    {
      "cell_type": "code",
      "source": [
        "# Array with a range of values\n",
        "range_arr = np.arange(0, 10, 2)  # start, stop, step\n",
        "print(\"\\nRange (0 to 10, step 2):\", range_arr)"
      ],
      "metadata": {
        "id": "mMpXDntjsZEK"
      },
      "execution_count": null,
      "outputs": []
    },
    {
      "cell_type": "code",
      "source": [
        "# Array with evenly spaced values\n",
        "linspace_arr = np.linspace(0, 1, 5)  # start, stop, num_points\n",
        "print(\"\\nLinspace (0 to 1, 5 points):\", linspace_arr)"
      ],
      "metadata": {
        "id": "qOHpgD4ZsY6z"
      },
      "execution_count": null,
      "outputs": []
    },
    {
      "cell_type": "markdown",
      "source": [
        "## Array Data Types\n",
        "NumPy arrays have specific data types for memory efficiency:"
      ],
      "metadata": {
        "id": "sTS-ppN5sjMO"
      }
    },
    {
      "cell_type": "code",
      "source": [
        "# Different data types\n",
        "int_arr = np.array([1, 2, 3], dtype=np.int32)\n",
        "float_arr = np.array([1.0, 2.0, 3.0], dtype=np.float64)\n",
        "bool_arr = np.array([True, False, True], dtype=np.bool_)\n",
        "\n",
        "print(\"Integer array:\", int_arr, \"dtype:\", int_arr.dtype)\n",
        "print(\"Float array:\", float_arr, \"dtype:\", float_arr.dtype)\n",
        "print(\"Boolean array:\", bool_arr, \"dtype:\", bool_arr.dtype)\n",
        "\n",
        "# Converting data types\n",
        "converted = int_arr.astype(np.float64)\n",
        "print(\"\\nConverted to float:\", converted, \"dtype:\", converted.dtype)"
      ],
      "metadata": {
        "id": "oiFzigLSsqZX"
      },
      "execution_count": null,
      "outputs": []
    },
    {
      "cell_type": "markdown",
      "source": [
        "## Array Indexing and Slicing\n",
        "Accessing elements in NumPy arrays is similar to Python lists but with multi-dimensional support:"
      ],
      "metadata": {
        "id": "M54q2hISst-7"
      }
    },
    {
      "cell_type": "code",
      "source": [
        "# Create a sample 2D array\n",
        "arr = np.array([[1, 2, 3, 4],\n",
        "                [5, 6, 7, 8],\n",
        "                [9, 10, 11, 12]])\n",
        "\n",
        "print(\"Original array:\")\n",
        "print(arr)"
      ],
      "metadata": {
        "id": "sNIb4L2asz_6"
      },
      "execution_count": null,
      "outputs": []
    },
    {
      "cell_type": "code",
      "source": [
        "# Basic indexing\n",
        "print(\"\\nElement at row 1, column 2:\", arr[1, 2])\n",
        "print(\"First row:\", arr[0])\n",
        "print(\"Last column:\", arr[:, -1])"
      ],
      "metadata": {
        "id": "GH3pG9a2s7FE"
      },
      "execution_count": null,
      "outputs": []
    },
    {
      "cell_type": "code",
      "source": [
        "# Slicing\n",
        "print(\"\\nFirst two rows:\")\n",
        "print(arr[:2])\n",
        "print(\"\\nMiddle two columns:\")\n",
        "print(arr[:, 1:3])"
      ],
      "metadata": {
        "id": "mEUBmjUQs62w"
      },
      "execution_count": null,
      "outputs": []
    },
    {
      "cell_type": "markdown",
      "source": [
        "## Boolean Indexing\n",
        "Select elements based on conditions:"
      ],
      "metadata": {
        "id": "CqxCV6bBtBOW"
      }
    },
    {
      "cell_type": "code",
      "source": [
        "# Create sample data\n",
        "data = np.array([[1, 2, 3],\n",
        "                 [4, 5, 6],\n",
        "                 [7, 8, 9]])\n",
        "\n",
        "print(\"Original data:\")\n",
        "print(data)\n",
        "\n",
        "# Boolean indexing\n",
        "mask = data > 5\n",
        "print(\"\\nBoolean mask (elements > 5):\")\n",
        "print(mask)\n",
        "\n",
        "print(\"\\nElements greater than 5:\")\n",
        "print(data[data > 5])"
      ],
      "metadata": {
        "id": "MmOp1Cz4tJiC"
      },
      "execution_count": null,
      "outputs": []
    },
    {
      "cell_type": "code",
      "source": [
        "# Multiple conditions\n",
        "print(\"\\nElements between 3 and 7:\")\n",
        "print(data[(data > 3) & (data < 7)])"
      ],
      "metadata": {
        "id": "4J4beUKitPmx"
      },
      "execution_count": null,
      "outputs": []
    },
    {
      "cell_type": "markdown",
      "source": [
        "## Array Operations\n",
        "NumPy supports element-wise operations:"
      ],
      "metadata": {
        "id": "32JMUCxXtS_s"
      }
    },
    {
      "cell_type": "code",
      "source": [
        "# Create sample arrays\n",
        "a = np.array([1, 2, 3, 4])\n",
        "b = np.array([5, 6, 7, 8])\n",
        "\n",
        "print(\"Array a:\", a)\n",
        "print(\"Array b:\", b)"
      ],
      "metadata": {
        "id": "ng68zR3QtekF"
      },
      "execution_count": null,
      "outputs": []
    },
    {
      "cell_type": "code",
      "source": [
        "# Arithmetic operations\n",
        "print(\"\\nAddition:\", a + b)\n",
        "print(\"Subtraction:\", a - b)\n",
        "print(\"Multiplication:\", a * b)\n",
        "print(\"Division:\", a / b)\n",
        "print(\"Exponentiation:\", a ** 2)"
      ],
      "metadata": {
        "id": "f3GuLPYntsGc"
      },
      "execution_count": null,
      "outputs": []
    },
    {
      "cell_type": "code",
      "source": [
        "# Comparison operations\n",
        "print(\"\\na > 2:\", a > 2)\n",
        "print(\"a == b:\", a == b)"
      ],
      "metadata": {
        "id": "mRLcRKKmtoSd"
      },
      "execution_count": null,
      "outputs": []
    },
    {
      "cell_type": "markdown",
      "source": [
        "## Broadcasting\n",
        "NumPy can perform operations on arrays of different shapes through broadcasting:"
      ],
      "metadata": {
        "id": "Xz7DqKjytuiG"
      }
    },
    {
      "cell_type": "code",
      "source": [
        "# Array and scalar\n",
        "arr = np.array([[1, 2, 3],\n",
        "                [4, 5, 6]])\n",
        "print(\"Original array:\")\n",
        "print(arr)"
      ],
      "metadata": {
        "id": "DTPppNi4t2RE"
      },
      "execution_count": null,
      "outputs": []
    },
    {
      "cell_type": "code",
      "source": [
        "print(\"\\nArray + 5:\")\n",
        "print(arr + 5)"
      ],
      "metadata": {
        "id": "PSTZBDu4t-dy"
      },
      "execution_count": null,
      "outputs": []
    },
    {
      "cell_type": "code",
      "source": [
        "print(\"\\nArray * 2:\")\n",
        "print(arr * 2)"
      ],
      "metadata": {
        "id": "HPp7bVewt-Wg"
      },
      "execution_count": null,
      "outputs": []
    },
    {
      "cell_type": "code",
      "source": [
        "# Array and 1D array\n",
        "vector = np.array([10, 20, 30])\n",
        "print(\"\\nArray + vector:\")\n",
        "print(arr + vector)"
      ],
      "metadata": {
        "id": "ZGhpMzuOt-L5"
      },
      "execution_count": null,
      "outputs": []
    },
    {
      "cell_type": "markdown",
      "source": [
        "## Mathematical Functions\n",
        "NumPy provides comprehensive mathematical functions:"
      ],
      "metadata": {
        "id": "Vkp-akK0uFVd"
      }
    },
    {
      "cell_type": "code",
      "source": [
        "# Create sample data\n",
        "arr = np.array([1, 4, 9, 16, 25])\n",
        "\n",
        "print(\"Array:\", arr)"
      ],
      "metadata": {
        "id": "vxj8ni5luMx5"
      },
      "execution_count": null,
      "outputs": []
    },
    {
      "cell_type": "code",
      "source": [
        "# Basic math functions\n",
        "print(\"\\nSquare root:\", np.sqrt(arr))\n",
        "print(\"Exponential:\", np.exp(arr))\n",
        "print(\"Logarithm:\", np.log(arr))\n",
        "print(\"Sine:\", np.sin(arr))"
      ],
      "metadata": {
        "id": "zLiAbmHduQQl"
      },
      "execution_count": null,
      "outputs": []
    },
    {
      "cell_type": "code",
      "source": [
        "# Statistical functions\n",
        "print(\"\\nSum:\", np.sum(arr))\n",
        "print(\"Mean:\", np.mean(arr))\n",
        "print(\"Standard deviation:\", np.std(arr))\n",
        "print(\"Minimum:\", np.min(arr))\n",
        "print(\"Maximum:\", np.max(arr))\n",
        "print(\"Index of maximum:\", np.argmax(arr))"
      ],
      "metadata": {
        "id": "A3npFfkguPrS"
      },
      "execution_count": null,
      "outputs": []
    },
    {
      "cell_type": "markdown",
      "source": [
        "## Array Manipulation\n",
        "Reshaping and manipulating arrays:"
      ],
      "metadata": {
        "id": "tTFWweofuXtR"
      }
    },
    {
      "cell_type": "code",
      "source": [
        "# Create sample array\n",
        "arr = np.arange(12)\n",
        "print(\"Original 1D array:\", arr)"
      ],
      "metadata": {
        "id": "qk_Ymlk0ud50"
      },
      "execution_count": null,
      "outputs": []
    },
    {
      "cell_type": "code",
      "source": [
        "# Reshape to 2D\n",
        "arr_2d = arr.reshape(3, 4)\n",
        "print(\"\\nReshaped to 3x4:\")\n",
        "print(arr_2d)"
      ],
      "metadata": {
        "id": "nZOTezrLug6l"
      },
      "execution_count": null,
      "outputs": []
    },
    {
      "cell_type": "code",
      "source": [
        "# Flatten back to 1D\n",
        "arr_flat = arr_2d.flatten()\n",
        "print(\"\\nFlattened:\", arr_flat)"
      ],
      "metadata": {
        "id": "6JbP4k5LujGf"
      },
      "execution_count": null,
      "outputs": []
    },
    {
      "cell_type": "code",
      "source": [
        "# Transpose\n",
        "arr_transposed = arr_2d.T\n",
        "print(\"\\nTransposed:\")\n",
        "print(arr_transposed)"
      ],
      "metadata": {
        "id": "4oMyb3hHui8-"
      },
      "execution_count": null,
      "outputs": []
    },
    {
      "cell_type": "code",
      "source": [
        "# Stacking arrays\n",
        "a = np.array([1, 2, 3])\n",
        "b = np.array([4, 5, 6])\n",
        "print(\"\\nVertical stack:\")\n",
        "print(np.vstack([a, b]))\n",
        "print(\"\\nHorizontal stack:\")\n",
        "print(np.hstack([a, b]))"
      ],
      "metadata": {
        "id": "usMimJ6huiz3"
      },
      "execution_count": null,
      "outputs": []
    },
    {
      "cell_type": "markdown",
      "source": [
        "## Linear Algebra Operations\n",
        "NumPy has extensive linear algebra capabilities:"
      ],
      "metadata": {
        "id": "x4BlWaEMutLR"
      }
    },
    {
      "cell_type": "code",
      "source": [
        "# Create matrices\n",
        "A = np.array([[1, 2],\n",
        "              [3, 4]])\n",
        "B = np.array([[5, 6],\n",
        "              [7, 8]])\n",
        "\n",
        "print(\"Matrix A:\")\n",
        "print(A)\n",
        "print(\"\\nMatrix B:\")\n",
        "print(B)"
      ],
      "metadata": {
        "id": "A4Bm9kxFu1Cv"
      },
      "execution_count": null,
      "outputs": []
    },
    {
      "cell_type": "code",
      "source": [
        "# Matrix operations\n",
        "print(\"\\nMatrix multiplication:\")\n",
        "print(np.dot(A, B))"
      ],
      "metadata": {
        "id": "TUiUSwIDu_d0"
      },
      "execution_count": null,
      "outputs": []
    },
    {
      "cell_type": "code",
      "source": [
        "# Alternative: A @ B\n",
        "print(\"\\nMatrix multiplication (alternative):\")\n",
        "print(A @ B)"
      ],
      "metadata": {
        "id": "Ftiw-9bJu_Tq"
      },
      "execution_count": null,
      "outputs": []
    },
    {
      "cell_type": "code",
      "source": [
        "print(\"\\nElement-wise multiplication:\")\n",
        "print(A * B)"
      ],
      "metadata": {
        "id": "21BMOQNVu_Kt"
      },
      "execution_count": null,
      "outputs": []
    },
    {
      "cell_type": "code",
      "source": [
        "print(\"\\nDeterminant of A:\", np.linalg.det(A))"
      ],
      "metadata": {
        "id": "FpEU6Rpju_Bu"
      },
      "execution_count": null,
      "outputs": []
    },
    {
      "cell_type": "code",
      "source": [
        "print(\"Inverse of A:\")\n",
        "print(np.linalg.inv(A))"
      ],
      "metadata": {
        "id": "Yvg4Mejlu-5_"
      },
      "execution_count": null,
      "outputs": []
    },
    {
      "cell_type": "code",
      "source": [
        "# Eigenvalues and eigenvectors\n",
        "eigenvalues, eigenvectors = np.linalg.eig(A)\n",
        "print(\"\\nEigenvalues of A:\", eigenvalues)\n",
        "print(\"Eigenvectors of A:\")\n",
        "print(eigenvectors)"
      ],
      "metadata": {
        "id": "a2DFTCxGu-xo"
      },
      "execution_count": null,
      "outputs": []
    },
    {
      "cell_type": "markdown",
      "source": [
        "## Random Number Generation\n",
        "Essential for machine learning initialization and simulations:"
      ],
      "metadata": {
        "id": "NuqaZgs7vWne"
      }
    },
    {
      "cell_type": "code",
      "source": [
        "# Set random seed for reproducibility\n",
        "np.random.seed(42)"
      ],
      "metadata": {
        "id": "3qSxarSsvaUh"
      },
      "execution_count": null,
      "outputs": []
    },
    {
      "cell_type": "code",
      "source": [
        "# Various random distributions\n",
        "print(\"Random floats [0,1):\", np.random.rand(5))\n",
        "print(\"\\nRandom integers [0,10):\", np.random.randint(0, 10, 5))\n",
        "print(\"\\nRandom normal distribution:\", np.random.randn(5))"
      ],
      "metadata": {
        "id": "mvco4ds6vjtu"
      },
      "execution_count": null,
      "outputs": []
    },
    {
      "cell_type": "code",
      "source": [
        "# Random 2D array\n",
        "random_matrix = np.random.rand(3, 3)\n",
        "print(\"\\nRandom 3x3 matrix:\")\n",
        "print(random_matrix)"
      ],
      "metadata": {
        "id": "6D3S2zzVvjh9"
      },
      "execution_count": null,
      "outputs": []
    },
    {
      "cell_type": "code",
      "source": [
        "# Random choice from array\n",
        "choices = ['a', 'b', 'c', 'd']\n",
        "print(\"\\nRandom choices:\", np.random.choice(choices, size=10))\n",
        "print(\"Random choices with probabilities:\",\n",
        "      np.random.choice(choices, size=10, p=[0.1, 0.2, 0.3, 0.4]))"
      ],
      "metadata": {
        "id": "MXZCeYsHvjX7"
      },
      "execution_count": null,
      "outputs": []
    },
    {
      "cell_type": "markdown",
      "source": [
        "## Working with Real Data\n",
        "Let's apply NumPy to a more realistic scenario:"
      ],
      "metadata": {
        "id": "IXtIqvguvtDD"
      }
    },
    {
      "cell_type": "code",
      "source": [
        "# Simulate a dataset (like you might load from a CSV)\n",
        "# Let's create sample data for house prices\n",
        "np.random.seed(123)"
      ],
      "metadata": {
        "id": "xUW1zMIsv0BU"
      },
      "execution_count": null,
      "outputs": []
    },
    {
      "cell_type": "code",
      "source": [
        "# Features: size (sq ft), bedrooms, age (years)\n",
        "n_samples = 100\n",
        "house_sizes = np.random.normal(2000, 500, n_samples)\n",
        "bedrooms = np.random.randint(1, 6, n_samples)\n",
        "house_ages = np.random.randint(0, 50, n_samples)"
      ],
      "metadata": {
        "id": "LFp5UCIcwEQh"
      },
      "execution_count": null,
      "outputs": []
    },
    {
      "cell_type": "code",
      "source": [
        "# Create feature matrix\n",
        "X = np.column_stack([house_sizes, bedrooms, house_ages])\n",
        "print(\"Feature matrix shape:\", X.shape)\n",
        "print(\"First 5 rows:\")\n",
        "print(X[:5])"
      ],
      "metadata": {
        "id": "JFG-T2yOwEFt"
      },
      "execution_count": null,
      "outputs": []
    },
    {
      "cell_type": "code",
      "source": [
        "# Target variable: price (simplified calculation)\n",
        "prices = (house_sizes * 100 + bedrooms * 10000 - house_ages * 1000 +\n",
        "          np.random.normal(0, 10000, n_samples))\n",
        "\n",
        "print(\"\\nPrice statistics:\")\n",
        "print(f\"Mean: ${np.mean(prices):.2f}\")\n",
        "print(f\"Std: ${np.std(prices):.2f}\")\n",
        "print(f\"Min: ${np.min(prices):.2f}\")\n",
        "print(f\"Max: ${np.max(prices):.2f}\")"
      ],
      "metadata": {
        "id": "D6bphToAwD9Z"
      },
      "execution_count": null,
      "outputs": []
    },
    {
      "cell_type": "code",
      "source": [
        "# Normalize features (common in ML)\n",
        "X_normalized = (X - np.mean(X, axis=0)) / np.std(X, axis=0)\n",
        "print(\"\\nFirst 5 normalized features:\")\n",
        "print(X_normalized[:5])"
      ],
      "metadata": {
        "id": "vG7M9aoQwD0X"
      },
      "execution_count": null,
      "outputs": []
    },
    {
      "cell_type": "markdown",
      "source": [
        "## Saving and Loading Arrays\n",
        "Persist your data for later use:"
      ],
      "metadata": {
        "id": "f-aKOQTlwU9S"
      }
    },
    {
      "cell_type": "code",
      "source": [
        "# Create sample data\n",
        "data = np.random.randn(5, 3)\n",
        "print(\"Sample data:\")\n",
        "print(data)"
      ],
      "metadata": {
        "id": "J4ARZVihwbFo"
      },
      "execution_count": null,
      "outputs": []
    },
    {
      "cell_type": "code",
      "source": [
        "# Save to file\n",
        "np.save('my_array.npy', data)"
      ],
      "metadata": {
        "id": "2s53_7LEwhfT"
      },
      "execution_count": null,
      "outputs": []
    },
    {
      "cell_type": "code",
      "source": [
        "# Load from file\n",
        "loaded_data = np.load('my_array.npy')\n",
        "print(\"\\nLoaded data:\")\n",
        "print(loaded_data)"
      ],
      "metadata": {
        "id": "M8k0DOCUwhV9"
      },
      "execution_count": null,
      "outputs": []
    },
    {
      "cell_type": "code",
      "source": [
        "# Save and load text files (CSV-like)\n",
        "np.savetxt('my_array.csv', data, delimiter=',')\n",
        "loaded_csv = np.loadtxt('my_array.csv', delimiter=',')\n",
        "print(\"\\nLoaded from CSV:\")\n",
        "print(loaded_csv)"
      ],
      "metadata": {
        "id": "NKcjGddUwhO0"
      },
      "execution_count": null,
      "outputs": []
    },
    {
      "cell_type": "code",
      "source": [
        "# Verify they're the same\n",
        "print(\"\\nArrays are equal:\", np.array_equal(data, loaded_data))"
      ],
      "metadata": {
        "id": "31f3PcAQwhHO"
      },
      "execution_count": null,
      "outputs": []
    },
    {
      "cell_type": "markdown",
      "source": [
        "## Advanced Indexing: Fancy Indexing\n",
        "Selecting multiple non-adjacent elements:"
      ],
      "metadata": {
        "id": "TkU5oIZbwsWg"
      }
    },
    {
      "cell_type": "code",
      "source": [
        "# Create sample array\n",
        "arr = np.arange(0, 100, 10)\n",
        "print(\"Original array:\", arr)"
      ],
      "metadata": {
        "id": "LOCn5URYw5GE"
      },
      "execution_count": null,
      "outputs": []
    },
    {
      "cell_type": "code",
      "source": [
        "# Fancy indexing with integer arrays\n",
        "indices = [1, 3, 5, 7]\n",
        "print(\"\\nElements at indices\", indices, \":\", arr[indices])"
      ],
      "metadata": {
        "id": "iDQ4hOkrw_2t"
      },
      "execution_count": null,
      "outputs": []
    },
    {
      "cell_type": "code",
      "source": [
        "# Boolean fancy indexing\n",
        "mask = np.array([1, 0, 1, 0, 1, 0, 1, 0, 1, 0], dtype=bool)\n",
        "print(\"\\nElements where mask is True:\", arr[mask])"
      ],
      "metadata": {
        "id": "nhrNs0WQw_ta"
      },
      "execution_count": null,
      "outputs": []
    },
    {
      "cell_type": "code",
      "source": [
        "# Multi-dimensional fancy indexing\n",
        "matrix = np.random.rand(4, 4)\n",
        "print(\"\\nRandom 4x4 matrix:\")\n",
        "print(matrix)"
      ],
      "metadata": {
        "id": "YO8gY7R8w_k9"
      },
      "execution_count": null,
      "outputs": []
    },
    {
      "cell_type": "code",
      "source": [
        "# Select specific rows and columns\n",
        "selected = matrix[[0, 2, 3], [1, 2, 0]]  # (0,1), (2,2), (3,0)\n",
        "print(\"\\nSelected elements:\", selected)"
      ],
      "metadata": {
        "id": "E4QCs_Anw_dM"
      },
      "execution_count": null,
      "outputs": []
    },
    {
      "cell_type": "markdown",
      "source": [
        "## Practical Example: Image Processing\n",
        "NumPy arrays are perfect for image manipulation:"
      ],
      "metadata": {
        "id": "PGFnh3k7xwA6"
      }
    },
    {
      "cell_type": "code",
      "source": [
        "# Simulate a grayscale image (2D array)\n",
        "image = np.random.randint(0, 256, (10, 10), dtype=np.uint8)\n",
        "print(\"Original 'image' (10x10 pixels):\")\n",
        "print(image)\n",
        "\n",
        "\n",
        "\n",
        "\n",
        "\n"
      ],
      "metadata": {
        "id": "LfvKIX-rx0fh"
      },
      "execution_count": null,
      "outputs": []
    },
    {
      "cell_type": "code",
      "source": [
        "# Image operations\n",
        "brightened = np.clip(image + 50, 0, 255)  # Brighten\n",
        "print(\"\\nBrightened image:\")\n",
        "print(brightened)"
      ],
      "metadata": {
        "id": "na4v7MvoyG3y"
      },
      "execution_count": null,
      "outputs": []
    },
    {
      "cell_type": "code",
      "source": [
        "# Edge detection kernel (simplified)\n",
        "kernel = np.array([[-1, -1, -1],\n",
        "                   [-1,  8, -1],\n",
        "                   [-1, -1, -1]])\n",
        "\n",
        "# We'd normally use convolution, but for simplicity:\n",
        "edges = np.zeros_like(image)\n",
        "for i in range(1, image.shape[0] - 1):\n",
        "    for j in range(1, image.shape[1] - 1):\n",
        "        neighborhood = image[i-1:i+2, j-1:j+2]\n",
        "        edges[i, j] = np.sum(neighborhood * kernel)\n",
        "\n",
        "# let's see the final output\n",
        "print(\"\\nEdges detected:\")\n",
        "print(edges)"
      ],
      "metadata": {
        "id": "Iy93p5-vyGuh"
      },
      "execution_count": null,
      "outputs": []
    },
    {
      "cell_type": "code",
      "source": [
        "# Rescaling image\n",
        "scaled = image[::2, ::2]  # Downsample by 2\n",
        "print(\"\\nScaled image (5x5):\")\n",
        "print(scaled)"
      ],
      "metadata": {
        "id": "aXr4eythyGk4"
      },
      "execution_count": null,
      "outputs": []
    },
    {
      "cell_type": "markdown",
      "source": [
        "## Practice\n",
        "Create a complete data analysis workflow:\n",
        "\n",
        "1.    Generate sample student data: scores in Math, Physics, Chemistry (0-100)\n",
        "\n",
        "2.    Calculate average score for each student\n",
        "\n",
        "3.    Find students with average > 80\n",
        "\n",
        "4.    Normalize all scores\n",
        "\n",
        "5.    Calculate correlation matrix between subjects\n",
        "\n",
        "6.    Save the processed data to a file\n",
        "\n"
      ],
      "metadata": {
        "id": "aryHHRkVHTKi"
      }
    },
    {
      "cell_type": "code",
      "source": [
        "## Try your solution here\n"
      ],
      "metadata": {
        "id": "AL3x1nPmHplP"
      },
      "execution_count": null,
      "outputs": []
    },
    {
      "cell_type": "markdown",
      "source": [
        "<details>\n",
        "<summary>👉 Click to show solution</summary>\n",
        "\n",
        "```python\n",
        "# Solution\n",
        "import numpy as np\n",
        "np.random.seed(42)\n",
        "\n",
        "# 1. Generate sample data\n",
        "n_students = 50\n",
        "math_scores = np.random.randint(50, 101, n_students)\n",
        "physics_scores = np.random.randint(55, 98, n_students)\n",
        "chemistry_scores = np.random.randint(60, 95, n_students)\n",
        "\n",
        "scores = np.column_stack([math_scores, physics_scores, chemistry_scores])\n",
        "print(\"1. Student scores (first 5 rows):\")\n",
        "print(scores[:5])\n",
        "\n",
        "# 2. Calculate averages\n",
        "averages = np.mean(scores, axis=1)\n",
        "print(\"\\n2. Student averages (first 5):\")\n",
        "print(averages[:5])\n",
        "\n",
        "# 3. High performing students\n",
        "high_performers = scores[averages > 80]\n",
        "print(f\"\\n3. High performers (average > 80): {len(high_performers)} students\")\n",
        "\n",
        "# 4. Normalize scores\n",
        "scores_normalized = (scores - np.mean(scores, axis=0)) / np.std(scores, axis=0)\n",
        "print(\"\\n4. Normalized scores (first 5 rows):\")\n",
        "print(scores_normalized[:5])\n",
        "\n",
        "# 5. Correlation matrix\n",
        "correlation_matrix = np.corrcoef(scores.T)\n",
        "print(\"\\n5. Correlation matrix:\")\n",
        "print(\"   Math  Physics Chemistry\")\n",
        "print(correlation_matrix)\n",
        "\n",
        "# 6. Save data\n",
        "np.savetxt('student_scores.csv', scores, delimiter=',', fmt='%d')\n",
        "print(\"\\n6. Data saved to 'student_scores.csv'\")\n",
        "\n",
        "# Verify by loading\n",
        "loaded_scores = np.loadtxt('student_scores.csv', delimiter=',')\n",
        "print(\"Data verified:\", np.array_equal(scores, loaded_scores))\n",
        "```\n",
        "</details>"
      ],
      "metadata": {
        "id": "PMUkF1BIJxn7"
      }
    },
    {
      "cell_type": "markdown",
      "source": [
        "## Summary and Best Practices\n",
        "Key Takeaways:\n",
        "\n",
        "- NumPy arrays are faster and more memory-efficient than Python lists\n",
        "\n",
        "- Broadcasting allows operations on differently shaped arrays\n",
        "\n",
        "- Vectorized operations are preferred over loops\n",
        "\n",
        "- Understand array shapes and dimensions for ML applications\n",
        "\n",
        "Common Pitfalls to Avoid:\n",
        "\n",
        "- Modifying arrays without copying when needed\n",
        "\n",
        "- Ignoring array shapes and dimensions\n",
        "\n",
        "- Using Python loops instead of vectorized operations\n",
        "\n",
        "- Forgetting about data types and memory usage"
      ],
      "metadata": {
        "id": "ALjEcu4ay2D0"
      }
    }
  ]
}