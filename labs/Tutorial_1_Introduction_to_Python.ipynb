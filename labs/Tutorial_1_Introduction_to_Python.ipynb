{
  "nbformat": 4,
  "nbformat_minor": 0,
  "metadata": {
    "colab": {
      "provenance": [],
      "toc_visible": true
    },
    "kernelspec": {
      "name": "python3",
      "display_name": "Python 3"
    },
    "language_info": {
      "name": "python"
    }
  },
  "cells": [
    {
      "cell_type": "markdown",
      "source": [
        "# Introduction to Python"
      ],
      "metadata": {
        "id": "y6jawHRgVI64"
      }
    },
    {
      "cell_type": "markdown",
      "source": [
        "## Python Lists vs MATLAB Arrays\n",
        "In MATLAB, everything is essentially a matrix. In Python, we have lists (general-purpose containers) and NumPy arrays (optimized for numerical computing).\n",
        "\n",
        "Let's see how they behave differently.\n"
      ],
      "metadata": {
        "id": "ARYewmstVTVJ"
      }
    },
    {
      "cell_type": "code",
      "source": [
        "# Import Library\n",
        "import numpy as np"
      ],
      "metadata": {
        "id": "uOyaGNVRV-rY"
      },
      "execution_count": null,
      "outputs": []
    },
    {
      "cell_type": "code",
      "execution_count": null,
      "metadata": {
        "id": "Ifre2UyjTu8L",
        "colab": {
          "base_uri": "https://localhost:8080/"
        },
        "outputId": "bee6c615-efa2-4d61-fa75-2e9e1eb8c696"
      },
      "outputs": [
        {
          "output_type": "stream",
          "name": "stdout",
          "text": [
            "Python list: [1, 2, 3, 4]\n"
          ]
        }
      ],
      "source": [
        "# Python List vs NumPy Array\n",
        "\n",
        "# Python List\n",
        "py_list = [1, 2, 3, 4]\n",
        "print(\"Python list:\", py_list)"
      ]
    },
    {
      "cell_type": "code",
      "source": [
        "# NumPy Array\n",
        "np_array = np.array([1, 2, 3, 4])\n",
        "print(\"NumPy array:\", np_array)"
      ],
      "metadata": {
        "id": "QGqNBt4RVv-h",
        "colab": {
          "base_uri": "https://localhost:8080/"
        },
        "outputId": "6a1e8bf9-7c99-45d3-870f-107468624cea"
      },
      "execution_count": null,
      "outputs": [
        {
          "output_type": "stream",
          "name": "stdout",
          "text": [
            "NumPy array: [1 2 3 4]\n"
          ]
        }
      ]
    },
    {
      "cell_type": "code",
      "source": [
        "# List doesn't support element-wise operations directly\n",
        "try:\n",
        "    print(py_list * 2)\n",
        "except Exception as e:\n",
        "    print(\"Error:\", e)"
      ],
      "metadata": {
        "id": "ocohtpKXVzF-",
        "colab": {
          "base_uri": "https://localhost:8080/"
        },
        "outputId": "ff12d373-574a-42a1-9fca-3c4430ddb26b"
      },
      "execution_count": null,
      "outputs": [
        {
          "output_type": "stream",
          "name": "stdout",
          "text": [
            "[1, 2, 3, 4, 1, 2, 3, 4]\n"
          ]
        }
      ]
    },
    {
      "cell_type": "code",
      "source": [
        "# NumPy supports vectorized operations\n",
        "print(np_array * 2)"
      ],
      "metadata": {
        "id": "F1PsZNSRV8k2",
        "colab": {
          "base_uri": "https://localhost:8080/"
        },
        "outputId": "eefdf884-47d8-46d5-b32d-cb75ac041711"
      },
      "execution_count": null,
      "outputs": [
        {
          "output_type": "stream",
          "name": "stdout",
          "text": [
            "[2 4 6 8]\n"
          ]
        }
      ]
    },
    {
      "cell_type": "markdown",
      "source": [
        "### Heterogeneous data vs Numeric only\n",
        "Python lists can store mixed data types. NumPy arrays are homogeneous."
      ],
      "metadata": {
        "id": "lQvpC0uUWWF1"
      }
    },
    {
      "cell_type": "code",
      "source": [
        "# Mixed data in Python list\n",
        "mixed_list = [1, \"two\", 3.0, True]\n",
        "print(mixed_list)"
      ],
      "metadata": {
        "id": "gKLDfN8DWP1P",
        "colab": {
          "base_uri": "https://localhost:8080/"
        },
        "outputId": "300098ca-ff95-486c-bc5a-02528a1ddf9a"
      },
      "execution_count": null,
      "outputs": [
        {
          "output_type": "stream",
          "name": "stdout",
          "text": [
            "[1, 'two', 3.0, True]\n"
          ]
        }
      ]
    },
    {
      "cell_type": "code",
      "source": [
        "# NumPy tries to convert all to a common type\n",
        "mixed_array = np.array([1, \"two\", 3.0, True])\n",
        "print(mixed_array)"
      ],
      "metadata": {
        "id": "iQME_ahoWesS",
        "colab": {
          "base_uri": "https://localhost:8080/"
        },
        "outputId": "c0c50231-22a6-4b35-d938-1033d2a8badd"
      },
      "execution_count": null,
      "outputs": [
        {
          "output_type": "stream",
          "name": "stdout",
          "text": [
            "['1' 'two' '3.0' 'True']\n"
          ]
        }
      ]
    },
    {
      "cell_type": "markdown",
      "source": [
        "### Indexing in NumPy Arrays (1D, 2D, 3D)"
      ],
      "metadata": {
        "id": "NjrBpjFDW4Ar"
      }
    },
    {
      "cell_type": "markdown",
      "source": [
        "Indexing is 0-based in Python. Let's explore 1D, 2D, and 3D arrays."
      ],
      "metadata": {
        "id": "2VJ3HfaVXF3O"
      }
    },
    {
      "cell_type": "code",
      "source": [
        "# 1D Array\n",
        "a = np.array([10, 20, 30, 40, 50])\n",
        "print(a[0], a[-1])   # first and last elements"
      ],
      "metadata": {
        "id": "dprJvUJvXBbx",
        "colab": {
          "base_uri": "https://localhost:8080/"
        },
        "outputId": "3c1acffd-f0bd-48f4-acf4-1eee34ce618b"
      },
      "execution_count": null,
      "outputs": [
        {
          "output_type": "stream",
          "name": "stdout",
          "text": [
            "10 50\n"
          ]
        }
      ]
    },
    {
      "cell_type": "code",
      "source": [
        "# 2D Array\n",
        "b = np.array([[1,2,3],[4,5,6],[7,8,9]])\n",
        "print(\"b:\")\n",
        "print(b)\n",
        "print(\"b[0,0]: \", b[0,0]) # element at (0,0)\n",
        "print(\"b[1,2]: \", b[1,2]) # element at (1,2)"
      ],
      "metadata": {
        "id": "pNo9PG08XS5n",
        "colab": {
          "base_uri": "https://localhost:8080/"
        },
        "outputId": "ce3ed4ac-c069-446b-afe6-f9d4de6c777a"
      },
      "execution_count": null,
      "outputs": [
        {
          "output_type": "stream",
          "name": "stdout",
          "text": [
            "b:\n",
            "[[1 2 3]\n",
            " [4 5 6]\n",
            " [7 8 9]]\n",
            "b[0,0]:  1\n",
            "b[1,2]:  6\n"
          ]
        }
      ]
    },
    {
      "cell_type": "code",
      "source": [
        "# 3D Array\n",
        "c = np.arange(2*3*4).reshape(2,3,4)\n",
        "print(c)\n",
        "print(c[0,1,2])  # accessing 3D element"
      ],
      "metadata": {
        "id": "yptH8-wuXVFi",
        "colab": {
          "base_uri": "https://localhost:8080/"
        },
        "outputId": "427f923a-fa38-4016-810d-f218f4c1d0eb"
      },
      "execution_count": null,
      "outputs": [
        {
          "output_type": "stream",
          "name": "stdout",
          "text": [
            "[[[ 0  1  2  3]\n",
            "  [ 4  5  6  7]\n",
            "  [ 8  9 10 11]]\n",
            "\n",
            " [[12 13 14 15]\n",
            "  [16 17 18 19]\n",
            "  [20 21 22 23]]]\n",
            "6\n"
          ]
        }
      ]
    },
    {
      "cell_type": "markdown",
      "source": [
        "### Advanced Indexing and Slicing\n",
        "NumPy slicing is very powerful."
      ],
      "metadata": {
        "id": "9vjmzA2sYeJp"
      }
    },
    {
      "cell_type": "code",
      "source": [
        "print(b[:, 1])     # column 1"
      ],
      "metadata": {
        "id": "Vuv6Rqw0YgYs",
        "colab": {
          "base_uri": "https://localhost:8080/"
        },
        "outputId": "a7ee5740-ecfc-4d66-fc58-1e51c61da5e0"
      },
      "execution_count": null,
      "outputs": [
        {
          "output_type": "stream",
          "name": "stdout",
          "text": [
            "[2 5 8]\n"
          ]
        }
      ]
    },
    {
      "cell_type": "code",
      "source": [
        "print(b[1, :])     # row 1"
      ],
      "metadata": {
        "id": "K-KxGtngYkzF",
        "colab": {
          "base_uri": "https://localhost:8080/"
        },
        "outputId": "4c97fa60-a955-4cbe-ba69-05d45f1dc275"
      },
      "execution_count": null,
      "outputs": [
        {
          "output_type": "stream",
          "name": "stdout",
          "text": [
            "[4 5 6]\n"
          ]
        }
      ]
    },
    {
      "cell_type": "code",
      "source": [
        "print(c[1, :, :])  # slice whole 2D plane from 3D"
      ],
      "metadata": {
        "id": "O73qs3YxYmyq",
        "colab": {
          "base_uri": "https://localhost:8080/"
        },
        "outputId": "b0f96f0c-e9d5-448a-df70-613847f3d326"
      },
      "execution_count": null,
      "outputs": [
        {
          "output_type": "stream",
          "name": "stdout",
          "text": [
            "[[12 13 14 15]\n",
            " [16 17 18 19]\n",
            " [20 21 22 23]]\n"
          ]
        }
      ]
    },
    {
      "cell_type": "code",
      "source": [
        "print(c[:, :, 0])  # all first columns from each 2D layer"
      ],
      "metadata": {
        "id": "YeJUHxScYpgC",
        "colab": {
          "base_uri": "https://localhost:8080/"
        },
        "outputId": "76b14e88-604d-4133-bc2c-59e8e033e72b"
      },
      "execution_count": null,
      "outputs": [
        {
          "output_type": "stream",
          "name": "stdout",
          "text": [
            "[[ 0  4  8]\n",
            " [12 16 20]]\n"
          ]
        }
      ]
    },
    {
      "cell_type": "markdown",
      "source": [
        "## Conditional Statements"
      ],
      "metadata": {
        "id": "wHLcE1nWfC3V"
      }
    },
    {
      "cell_type": "markdown",
      "source": [
        "### If-Else in Python\n",
        "Use indentation carefully. Let's try examples."
      ],
      "metadata": {
        "id": "T6qqTKKcY8ys"
      }
    },
    {
      "cell_type": "code",
      "source": [
        "x = 0.1\n",
        "if x > 0:\n",
        "    print(\"Positive\")\n",
        "elif x == 0:\n",
        "    print(\"Zero\")\n",
        "else:\n",
        "    print(\"Negative\")\n"
      ],
      "metadata": {
        "id": "a3wElzPiY-XN"
      },
      "execution_count": null,
      "outputs": []
    },
    {
      "cell_type": "code",
      "source": [
        "score = 82\n",
        "if score >= 90:\n",
        "    grade = 'A'\n",
        "elif score >= 80:\n",
        "    grade = 'B'\n",
        "elif score >= 70:\n",
        "    grade = 'C'\n",
        "else:\n",
        "    grade = 'F'\n",
        "print(\"Grade:\", grade)\n"
      ],
      "metadata": {
        "id": "9fIdJLRtZVxk"
      },
      "execution_count": null,
      "outputs": []
    },
    {
      "cell_type": "markdown",
      "source": [
        "## Function Basics"
      ],
      "metadata": {
        "id": "nQS8UBv2Zc2c"
      }
    },
    {
      "cell_type": "code",
      "source": [
        "def greet(name):\n",
        "    return f\"Hello, {name}!\""
      ],
      "metadata": {
        "id": "Kegr8Ab6ZfoF"
      },
      "execution_count": null,
      "outputs": []
    },
    {
      "cell_type": "code",
      "source": [
        "print(greet(\"Ali\"))"
      ],
      "metadata": {
        "id": "u50vdsBhZlka"
      },
      "execution_count": null,
      "outputs": []
    },
    {
      "cell_type": "code",
      "source": [
        "def stats(numbers=[1,2,3]):\n",
        "    mean = sum(numbers)/len(numbers)\n",
        "    return min(numbers), mean, max(numbers)\n"
      ],
      "metadata": {
        "id": "n4OzpJGWZ2VN"
      },
      "execution_count": null,
      "outputs": []
    },
    {
      "cell_type": "code",
      "source": [
        "low, avg, high = stats()\n",
        "print(low, avg, high)"
      ],
      "metadata": {
        "id": "oJjTbGLrZ3mR"
      },
      "execution_count": null,
      "outputs": []
    },
    {
      "cell_type": "markdown",
      "source": [
        "## Plotting in Python"
      ],
      "metadata": {
        "id": "tvuqg10LfMiL"
      }
    },
    {
      "cell_type": "markdown",
      "source": [
        "### Basic Line Plot\n",
        "We can plot mathematical functions easily.  \n",
        "Let's plot sine and cosine on the same graph with labels and grid."
      ],
      "metadata": {
        "id": "UxXwjsuPbdsk"
      }
    },
    {
      "cell_type": "code",
      "source": [
        "import matplotlib.pyplot as plt"
      ],
      "metadata": {
        "id": "-G9FbTThbs4q"
      },
      "execution_count": null,
      "outputs": []
    },
    {
      "cell_type": "code",
      "source": [
        "x = np.linspace(0, 2*np.pi, 100)\n",
        "y1 = np.sin(x)\n",
        "y2 = np.cos(x)\n",
        "\n",
        "plt.figure(figsize=(6,4))\n",
        "plt.plot(x, y1, label='sin(x)', color='blue', linestyle='--')\n",
        "plt.plot(x, y2, label='cos(x)', color='red', linestyle='-.')\n",
        "plt.title(\"Sine and Cosine Waves\")\n",
        "plt.xlabel(\"x\")\n",
        "plt.ylabel(\"Value\")\n",
        "plt.legend()\n",
        "plt.grid(True)\n",
        "plt.show()"
      ],
      "metadata": {
        "id": "OcHi-xeFbnt8"
      },
      "execution_count": null,
      "outputs": []
    },
    {
      "cell_type": "markdown",
      "source": [
        "### Scatter Plot\n",
        "Used to visualize relationships between variables.  \n",
        "We’ll color points based on their value."
      ],
      "metadata": {
        "id": "aFLnbRjGcEBJ"
      }
    },
    {
      "cell_type": "code",
      "source": [
        "np.random.seed(0)\n",
        "x = np.random.rand(50)\n",
        "y = np.random.rand(50)\n",
        "colors = x + y  # color based on sum\n",
        "sizes = 300 * (x**2 + y**2)\n",
        "\n",
        "plt.figure(figsize=(5,5))\n",
        "plt.scatter(x, y, c=colors, s=sizes, alpha=0.6, cmap='viridis')\n",
        "plt.title(\"Random Scatter Plot\")\n",
        "plt.xlabel(\"X\")\n",
        "plt.ylabel(\"Y\")\n",
        "plt.colorbar(label='x + y')\n",
        "plt.show()\n"
      ],
      "metadata": {
        "id": "grT8Do0EcFXW"
      },
      "execution_count": null,
      "outputs": []
    },
    {
      "cell_type": "markdown",
      "source": [
        "### Bar Chart\n",
        "Bar charts are great for comparing categories."
      ],
      "metadata": {
        "id": "t5L7zQABcZCp"
      }
    },
    {
      "cell_type": "code",
      "source": [
        "categories = ['Python', 'MATLAB', 'C++', 'Java']\n",
        "students = [50, 20, 15, 10]\n",
        "\n",
        "plt.figure(figsize=(6,4))\n",
        "plt.bar(categories, students, color='skyblue', edgecolor='black')\n",
        "plt.title(\"Favorite Programming Languages\")\n",
        "plt.ylabel(\"Number of Students\")\n",
        "plt.show()\n"
      ],
      "metadata": {
        "id": "pUrTSKitcd8w"
      },
      "execution_count": null,
      "outputs": []
    },
    {
      "cell_type": "markdown",
      "source": [
        "### Histogram\n",
        "Histograms show the distribution of numerical data."
      ],
      "metadata": {
        "id": "EPGVGDdFcjWm"
      }
    },
    {
      "cell_type": "code",
      "source": [
        "data = np.random.normal(0, 1, 1000)\n",
        "\n",
        "plt.figure(figsize=(6,4))\n",
        "plt.hist(data, bins=10, color='lightgreen', edgecolor='black', alpha=0.7)\n",
        "plt.title(\"Histogram of Normally Distributed Data\")\n",
        "plt.xlabel(\"Value\")\n",
        "plt.ylabel(\"Frequency\")\n",
        "plt.show()\n"
      ],
      "metadata": {
        "id": "6Hsw029Zck0R"
      },
      "execution_count": null,
      "outputs": []
    },
    {
      "cell_type": "markdown",
      "source": [
        "### Pie Chart\n",
        "Pie charts show proportions between categories."
      ],
      "metadata": {
        "id": "6BXALHFjcuAD"
      }
    },
    {
      "cell_type": "code",
      "source": [
        "sizes = [40, 25, 20, 15]\n",
        "labels = ['AI', 'Robotics', 'Signal Processing', 'Embedded']\n",
        "explode = (0.1, 0, 0, 0)\n",
        "\n",
        "plt.figure(figsize=(5,5))\n",
        "plt.pie(sizes, labels=labels, autopct='%1.1f%%', explode=explode, shadow=True)\n",
        "plt.title(\"Interests of Electrical Engineering Students\")\n",
        "plt.show()\n"
      ],
      "metadata": {
        "id": "6C7w0vvWcyRK"
      },
      "execution_count": null,
      "outputs": []
    },
    {
      "cell_type": "markdown",
      "source": [
        "### 3D Surface Plot\n",
        "We can create 3D plots to visualize mathematical functions."
      ],
      "metadata": {
        "id": "97KwELI5dRuv"
      }
    },
    {
      "cell_type": "code",
      "source": [
        "from mpl_toolkits.mplot3d import Axes3D\n",
        "\n",
        "fig = plt.figure(figsize=(6,5))\n",
        "ax = fig.add_subplot(111, projection='3d')\n",
        "\n",
        "X = np.linspace(-5, 5, 100)\n",
        "Y = np.linspace(-5, 5, 100)\n",
        "X, Y = np.meshgrid(X, Y)\n",
        "Z = np.sin(np.sqrt(X**2 + Y**2))\n",
        "\n",
        "surf = ax.plot_surface(X, Y, Z, cmap='plasma', edgecolor='none')\n",
        "ax.set_title('3D Surface Plot: z = sin(sqrt(x^2 + y^2))')\n",
        "ax.set_xlabel('X')\n",
        "ax.set_ylabel('Y')\n",
        "ax.set_zlabel('Z')\n",
        "fig.colorbar(surf, shrink=0.5, aspect=5)\n",
        "plt.show()\n"
      ],
      "metadata": {
        "id": "IKg7im5mdRHf"
      },
      "execution_count": null,
      "outputs": []
    },
    {
      "cell_type": "markdown",
      "source": [
        "## Uploading Custom Data"
      ],
      "metadata": {
        "id": "43Aw1htkduCv"
      }
    },
    {
      "cell_type": "markdown",
      "source": [
        "### Upload Files in Colab\n",
        "Use the files module to upload from local machine."
      ],
      "metadata": {
        "id": "BDgiyoFvd2VK"
      }
    },
    {
      "cell_type": "code",
      "source": [
        "from google.colab import files\n",
        "uploaded = files.upload()\n",
        "\n",
        "for filename in uploaded.keys():\n",
        "    print(\"Uploaded:\", filename)\n"
      ],
      "metadata": {
        "id": "ztWgTJUbdN8U"
      },
      "execution_count": null,
      "outputs": []
    },
    {
      "cell_type": "markdown",
      "source": [
        "### Navigating File System"
      ],
      "metadata": {
        "id": "PlbZbif5eDo4"
      }
    },
    {
      "cell_type": "code",
      "source": [
        "!pwd       # print working directory"
      ],
      "metadata": {
        "id": "zH-6grWQeGVG"
      },
      "execution_count": null,
      "outputs": []
    },
    {
      "cell_type": "code",
      "source": [
        "!ls  # list files"
      ],
      "metadata": {
        "id": "wYA9fTI0eMWj"
      },
      "execution_count": null,
      "outputs": []
    },
    {
      "cell_type": "code",
      "source": [
        "%cd sample_data"
      ],
      "metadata": {
        "id": "iqeNy8oGeXtd"
      },
      "execution_count": null,
      "outputs": []
    },
    {
      "cell_type": "code",
      "source": [
        "!ls"
      ],
      "metadata": {
        "id": "ncXAHXQxecoa"
      },
      "execution_count": null,
      "outputs": []
    },
    {
      "cell_type": "code",
      "source": [
        "%cd .."
      ],
      "metadata": {
        "id": "ui7uFrSZeexA"
      },
      "execution_count": null,
      "outputs": []
    },
    {
      "cell_type": "code",
      "source": [
        "!mkdir data_folder"
      ],
      "metadata": {
        "id": "0gh0lkoCerbd"
      },
      "execution_count": null,
      "outputs": []
    },
    {
      "cell_type": "code",
      "source": [
        "from google.colab import drive\n",
        "drive.mount('/content/drive')\n"
      ],
      "metadata": {
        "id": "PIF8-phhey6J"
      },
      "execution_count": null,
      "outputs": []
    }
  ]
}