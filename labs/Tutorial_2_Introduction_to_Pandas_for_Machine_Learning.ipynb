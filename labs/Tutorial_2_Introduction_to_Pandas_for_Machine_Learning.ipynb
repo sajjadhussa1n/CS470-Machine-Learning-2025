{
  "nbformat": 4,
  "nbformat_minor": 0,
  "metadata": {
    "colab": {
      "provenance": []
    },
    "kernelspec": {
      "name": "python3",
      "display_name": "Python 3"
    },
    "language_info": {
      "name": "python"
    }
  },
  "cells": [
    {
      "cell_type": "markdown",
      "source": [
        "# Introduction to Pandas for Machine Learning\n",
        "\n",
        "In this notebook, we will practice **Python with Pandas**, a powerful library for data handling.  \n",
        "Understanding Pandas is *essential* for Machine Learning because:\n",
        "\n",
        "- Most ML datasets are tabular (rows = examples, columns = features).  \n",
        "- Pandas DataFrames make it easy to explore, clean, and preprocess data.  \n",
        "- ML models require clean numerical input, which we can prepare using Pandas.\n",
        "\n",
        "We will go step by step:\n",
        "1. Pandas basics (Series, DataFrame).  \n",
        "2. Loading and inspecting data.  \n",
        "3. Selecting and filtering data.  \n",
        "4. Descriptive statistics and summaries.  \n",
        "5. Handling missing values.  \n",
        "6. Grouping and aggregation.  \n",
        "7. Sorting and merging/joining.  \n",
        "\n",
        "Run each code cell and read the explanation carefully. Try small variations yourself!"
      ],
      "metadata": {
        "id": "MFmu5FgbjCQd"
      }
    },
    {
      "cell_type": "markdown",
      "source": [
        "## Import Pandas"
      ],
      "metadata": {
        "id": "qE4IusTJjRkx"
      }
    },
    {
      "cell_type": "code",
      "execution_count": null,
      "metadata": {
        "id": "exUCbSmOi3-i",
        "colab": {
          "base_uri": "https://localhost:8080/"
        },
        "outputId": "e1d03e63-ea78-452b-ffaf-ff53db544bbf"
      },
      "outputs": [
        {
          "output_type": "stream",
          "name": "stdout",
          "text": [
            "Pandas version: 2.2.2\n"
          ]
        }
      ],
      "source": [
        "import pandas as pd\n",
        "\n",
        "# Check pandas version\n",
        "print(\"Pandas version:\", pd.__version__)"
      ]
    },
    {
      "cell_type": "markdown",
      "source": [
        "## Pandas Objects: Series and DataFrame\n",
        "\n",
        "- **Series**: A one-dimensional labeled array (like a column in Excel).  \n",
        "- **DataFrame**: A two-dimensional labeled table (rows + columns).  \n",
        "\n",
        "Think of:\n",
        "- A **Series** as a single column of data.  \n",
        "- A **DataFrame** as a spreadsheet with multiple columns.\n",
        "\n",
        "We’ll start by creating them manually before working with real datasets.\n"
      ],
      "metadata": {
        "id": "uzw-7EfNjWsH"
      }
    },
    {
      "cell_type": "markdown",
      "source": [
        "## Create Series"
      ],
      "metadata": {
        "id": "0-UyOOPsjg7Z"
      }
    },
    {
      "cell_type": "code",
      "source": [
        "# A Pandas Series: like one column\n",
        "s = pd.Series([10, 20, 30, 40], name=\"Numbers\")\n",
        "print(s)"
      ],
      "metadata": {
        "id": "FIkc2QHdjdma",
        "colab": {
          "base_uri": "https://localhost:8080/"
        },
        "outputId": "2ae95054-a926-4a46-c09d-80f35c71709c"
      },
      "execution_count": null,
      "outputs": [
        {
          "output_type": "stream",
          "name": "stdout",
          "text": [
            "0    10\n",
            "1    20\n",
            "2    30\n",
            "3    40\n",
            "Name: Numbers, dtype: int64\n"
          ]
        }
      ]
    },
    {
      "cell_type": "code",
      "source": [
        "# Access index and values\n",
        "print(\"Index:\", s.index)\n",
        "print(\"Values:\", s.values)"
      ],
      "metadata": {
        "id": "lx1vPXJSjldx",
        "colab": {
          "base_uri": "https://localhost:8080/"
        },
        "outputId": "c069b8a1-968f-4901-9b91-5e3975e66ccb"
      },
      "execution_count": null,
      "outputs": [
        {
          "output_type": "stream",
          "name": "stdout",
          "text": [
            "Index: RangeIndex(start=0, stop=4, step=1)\n",
            "Values: [10 20 30 40]\n"
          ]
        }
      ]
    },
    {
      "cell_type": "markdown",
      "source": [
        "## Create DataFrame"
      ],
      "metadata": {
        "id": "Y7l0BBt4kDPE"
      }
    },
    {
      "cell_type": "code",
      "source": [
        "# A DataFrame: table with rows and columns\n",
        "data = {\n",
        "    \"Name\": [\"Alice\", \"Bob\", \"Charlie\", \"David\"],\n",
        "    \"Age\": [25, 30, 35, 40],\n",
        "    \"Salary\": [50000, 60000, 70000, 80000]\n",
        "}"
      ],
      "metadata": {
        "id": "-6hIZUZdkAE5"
      },
      "execution_count": null,
      "outputs": []
    },
    {
      "cell_type": "code",
      "source": [
        "df = pd.DataFrame(data)"
      ],
      "metadata": {
        "id": "_TrMdXW1kXpc"
      },
      "execution_count": null,
      "outputs": []
    },
    {
      "cell_type": "code",
      "source": [
        "print(df)"
      ],
      "metadata": {
        "id": "dmdvpmzWkWDv",
        "colab": {
          "base_uri": "https://localhost:8080/"
        },
        "outputId": "1030cc7f-a6bb-4152-c82e-d0852a005305"
      },
      "execution_count": null,
      "outputs": [
        {
          "output_type": "stream",
          "name": "stdout",
          "text": [
            "      Name  Age  Salary\n",
            "0    Alice   25   50000\n",
            "1      Bob   30   60000\n",
            "2  Charlie   35   70000\n",
            "3    David   40   80000\n"
          ]
        }
      ]
    },
    {
      "cell_type": "markdown",
      "source": [
        "## Accessing Data\n",
        "\n",
        "You can access:\n",
        "- Columns using `df[\"column_name\"]`  \n",
        "- Multiple columns using `df[[\"col1\",\"col2\"]]`  \n",
        "- Rows using `.loc` (label-based) or `.iloc` (position-based)  \n"
      ],
      "metadata": {
        "id": "QMrQkM6zkyoC"
      }
    },
    {
      "cell_type": "code",
      "source": [
        "# Access one column\n",
        "print(df[\"Name\"])"
      ],
      "metadata": {
        "id": "FhkjkOr4kwCM",
        "colab": {
          "base_uri": "https://localhost:8080/"
        },
        "outputId": "7d737b2a-f1ca-452a-f8c5-2cbc6a6426b3"
      },
      "execution_count": null,
      "outputs": [
        {
          "output_type": "stream",
          "name": "stdout",
          "text": [
            "0      Alice\n",
            "1        Bob\n",
            "2    Charlie\n",
            "3      David\n",
            "Name: Name, dtype: object\n"
          ]
        }
      ]
    },
    {
      "cell_type": "code",
      "source": [
        "# Access multiple columns\n",
        "print(df[[\"Name\", \"Salary\"]])"
      ],
      "metadata": {
        "id": "uu0OhOp_k6-Z",
        "colab": {
          "base_uri": "https://localhost:8080/"
        },
        "outputId": "0c492f70-5b59-45ec-8148-8d553c12fd1c"
      },
      "execution_count": null,
      "outputs": [
        {
          "output_type": "stream",
          "name": "stdout",
          "text": [
            "      Name  Salary\n",
            "0    Alice   50000\n",
            "1      Bob   60000\n",
            "2  Charlie   70000\n",
            "3    David   80000\n"
          ]
        }
      ]
    },
    {
      "cell_type": "code",
      "source": [
        "# Access a single row by index position\n",
        "print(df.iloc[1])"
      ],
      "metadata": {
        "id": "OqhVO08ok6yp",
        "colab": {
          "base_uri": "https://localhost:8080/"
        },
        "outputId": "126622c8-21fa-4cce-f00f-8c60cbf022e7"
      },
      "execution_count": null,
      "outputs": [
        {
          "output_type": "stream",
          "name": "stdout",
          "text": [
            "Name        Bob\n",
            "Age          30\n",
            "Salary    60000\n",
            "Name: 1, dtype: object\n"
          ]
        }
      ]
    },
    {
      "cell_type": "code",
      "source": [
        "# Access row(s) by label index\n",
        "print(df.loc[0:2])"
      ],
      "metadata": {
        "id": "JLm4GGTyk6mH"
      },
      "execution_count": null,
      "outputs": []
    },
    {
      "cell_type": "code",
      "source": [
        "# Access Name, Age column and only first 2 rows\n",
        "print(df.loc[0:1, [\"Name\", \"Age\"]])"
      ],
      "metadata": {
        "id": "PL2evCCIlkOl",
        "colab": {
          "base_uri": "https://localhost:8080/"
        },
        "outputId": "eb9b4491-47c2-4bf2-f087-c1a66ab2b285"
      },
      "execution_count": null,
      "outputs": [
        {
          "output_type": "stream",
          "name": "stdout",
          "text": [
            "    Name  Age\n",
            "0  Alice   25\n",
            "1    Bob   30\n"
          ]
        }
      ]
    },
    {
      "cell_type": "markdown",
      "source": [
        "## Filtering Data (Selecting Rows by Condition)\n",
        "\n",
        "We can filter rows based on conditions, just like in SQL or Excel filters.\n",
        "\n",
        "Examples:\n",
        "- `df[df[\"Salary\"] > 60000]` → Selects rows where Salary is greater than 60,000.  \n",
        "- `df[df[\"Age\"] < 35]` → Selects rows where Age is less than 35.  \n",
        "\n",
        "Multiple conditions can be combined using:\n",
        "- `&` for AND  \n",
        "- `|` for OR  \n",
        "- `~` for NOT\n"
      ],
      "metadata": {
        "id": "eK7GNI1AmCO_"
      }
    },
    {
      "cell_type": "code",
      "source": [
        "# Filtering rows\n",
        "print(\"Employees with Salary > 60000:\")\n",
        "print(df[df[\"Salary\"] > 60000])"
      ],
      "metadata": {
        "id": "mT1ccrEWmENK",
        "colab": {
          "base_uri": "https://localhost:8080/"
        },
        "outputId": "acb420d9-4db5-43ff-a074-3b76d6d26832"
      },
      "execution_count": null,
      "outputs": [
        {
          "output_type": "stream",
          "name": "stdout",
          "text": [
            "Employees with Salary > 60000:\n",
            "      Name  Age  Salary\n",
            "2  Charlie   35   70000\n",
            "3    David   40   80000\n"
          ]
        }
      ]
    },
    {
      "cell_type": "code",
      "source": [
        "print(\"Employees younger than 35:\")\n",
        "print(df[df[\"Age\"] < 35])"
      ],
      "metadata": {
        "id": "P3VTTsGrmxXz",
        "colab": {
          "base_uri": "https://localhost:8080/"
        },
        "outputId": "42856c01-7d2a-492e-f484-e7e1be8a6a7d"
      },
      "execution_count": null,
      "outputs": [
        {
          "output_type": "stream",
          "name": "stdout",
          "text": [
            "Employees younger than 35:\n",
            "    Name  Age  Salary\n",
            "0  Alice   25   50000\n",
            "1    Bob   30   60000\n"
          ]
        }
      ]
    },
    {
      "cell_type": "markdown",
      "source": [
        "## Descriptive Statistics\n",
        "\n",
        "Pandas provides built-in methods to quickly summarize data.\n",
        "\n",
        "- `df.describe()` → Summary statistics (count, mean, std, min, max, quartiles).  \n",
        "- `df.mean()` → Mean values for numeric columns.  \n",
        "- `df[\"Salary\"].max()` → Maximum salary.  \n",
        "- Similarly: `.min()`, `.sum()`, `.median()`, `.std()`.\n",
        "\n",
        "These are very useful for **exploring datasets** before applying ML.\n"
      ],
      "metadata": {
        "id": "rTCuz8zunmqd"
      }
    },
    {
      "cell_type": "code",
      "source": [
        "# Summary statistics\n",
        "print(df.describe())"
      ],
      "metadata": {
        "id": "GQiq8LFnnsUP",
        "colab": {
          "base_uri": "https://localhost:8080/"
        },
        "outputId": "e434f769-cf91-4230-ecd1-eddf9dcdce9c"
      },
      "execution_count": null,
      "outputs": [
        {
          "output_type": "stream",
          "name": "stdout",
          "text": [
            "             Age        Salary\n",
            "count   4.000000      4.000000\n",
            "mean   32.500000  65000.000000\n",
            "std     6.454972  12909.944487\n",
            "min    25.000000  50000.000000\n",
            "25%    28.750000  57500.000000\n",
            "50%    32.500000  65000.000000\n",
            "75%    36.250000  72500.000000\n",
            "max    40.000000  80000.000000\n"
          ]
        }
      ]
    },
    {
      "cell_type": "code",
      "source": [
        "# Mean of each column\n",
        "print(\"Mean values:\\n\", df.mean(numeric_only=True))"
      ],
      "metadata": {
        "id": "M-XLxG9bnyeB",
        "colab": {
          "base_uri": "https://localhost:8080/"
        },
        "outputId": "f3e622b8-acc3-473e-9dcc-7e33d9b6bfef"
      },
      "execution_count": null,
      "outputs": [
        {
          "output_type": "stream",
          "name": "stdout",
          "text": [
            "Mean values:\n",
            " Age          32.5\n",
            "Salary    65000.0\n",
            "dtype: float64\n"
          ]
        }
      ]
    },
    {
      "cell_type": "code",
      "source": [
        "# Maximum salary\n",
        "print(\"Max salary:\", df[\"Salary\"].max())"
      ],
      "metadata": {
        "id": "o-S7c59knyU2",
        "colab": {
          "base_uri": "https://localhost:8080/"
        },
        "outputId": "51d3c3e9-719d-43e8-8ac5-ee1625a1dd7e"
      },
      "execution_count": null,
      "outputs": [
        {
          "output_type": "stream",
          "name": "stdout",
          "text": [
            "Max salary: 80000\n"
          ]
        }
      ]
    },
    {
      "cell_type": "markdown",
      "source": [
        "## Reading and Writing CSV Files\n",
        "\n",
        "In real ML projects, data usually comes from files (CSV, Excel, etc.).\n",
        "\n",
        "- `df.to_csv(\"file.csv\")` → Save DataFrame to CSV.  \n",
        "- `pd.read_csv(\"file.csv\")` → Load DataFrame from CSV.  \n",
        "\n",
        "In Colab, the file is saved temporarily in the runtime environment.  \n",
        "\n",
        "*   List item\n",
        "*   List item\n",
        "\n",
        "\n",
        "You can also upload/download CSVs for practice.\n"
      ],
      "metadata": {
        "id": "xE11xBSkn_iM"
      }
    },
    {
      "cell_type": "code",
      "source": [
        "# Save to CSV\n",
        "df.to_csv(\"employees.csv\", index=False)"
      ],
      "metadata": {
        "id": "cmt-Yv5FoDTj"
      },
      "execution_count": null,
      "outputs": []
    },
    {
      "cell_type": "code",
      "source": [
        "# Read CSV back\n",
        "df_loaded = pd.read_csv(\"employees.csv\")\n",
        "print(df_loaded)"
      ],
      "metadata": {
        "id": "ch_h1P_CoNW3",
        "colab": {
          "base_uri": "https://localhost:8080/"
        },
        "outputId": "9a928efc-fe44-4905-9d3a-cb50ae84bc2e"
      },
      "execution_count": null,
      "outputs": [
        {
          "output_type": "stream",
          "name": "stdout",
          "text": [
            "      Name  Age  Salary\n",
            "0    Alice   25   50000\n",
            "1      Bob   30   60000\n",
            "2  Charlie   35   70000\n",
            "3    David   40   80000\n"
          ]
        }
      ]
    },
    {
      "cell_type": "markdown",
      "source": [
        "## Handling Missing Data\n",
        "\n",
        "Datasets often have **missing values**. Pandas helps with:\n",
        "- `df.isnull()` → Shows where data is missing.  \n",
        "- `df.fillna(value)` → Replace missing values with given value (e.g., mean).  \n",
        "- `df.dropna()` → Remove rows with missing values.  \n",
        "\n",
        "Handling missing data properly is *very important* in ML pipelines.\n"
      ],
      "metadata": {
        "id": "pVislSudojLe"
      }
    },
    {
      "cell_type": "code",
      "source": [
        "# Create a DataFrame with missing values\n",
        "data = {\n",
        "    \"Name\": [\"Alice\", \"Bob\", \"Charlie\", \"David\"],\n",
        "    \"Age\": [25, None, 35, 40],\n",
        "    \"Salary\": [50000, 60000, None, 80000]\n",
        "}"
      ],
      "metadata": {
        "id": "-GZPOBXooN5-"
      },
      "execution_count": null,
      "outputs": []
    },
    {
      "cell_type": "code",
      "source": [
        "df_missing = pd.DataFrame(data)\n",
        "print(df_missing)"
      ],
      "metadata": {
        "id": "bRo7ImJFo1ey",
        "colab": {
          "base_uri": "https://localhost:8080/"
        },
        "outputId": "88c01924-b0ef-428d-a555-1cd99b058480"
      },
      "execution_count": null,
      "outputs": [
        {
          "output_type": "stream",
          "name": "stdout",
          "text": [
            "      Name   Age   Salary\n",
            "0    Alice  25.0  50000.0\n",
            "1      Bob   NaN  60000.0\n",
            "2  Charlie  35.0      NaN\n",
            "3    David  40.0  80000.0\n"
          ]
        }
      ]
    },
    {
      "cell_type": "code",
      "source": [
        "# Detect missing values\n",
        "print(df_missing.isnull().sum())"
      ],
      "metadata": {
        "id": "gLOeobk5o6tb",
        "colab": {
          "base_uri": "https://localhost:8080/"
        },
        "outputId": "f861bf0c-5c6c-4a9d-f670-28559026e09d"
      },
      "execution_count": null,
      "outputs": [
        {
          "output_type": "stream",
          "name": "stdout",
          "text": [
            "Name      0\n",
            "Age       1\n",
            "Salary    1\n",
            "dtype: int64\n"
          ]
        }
      ]
    },
    {
      "cell_type": "code",
      "source": [
        "# Fill missing values with mean\n",
        "df_filled = df_missing.fillna(df_missing.mean(numeric_only=True))\n",
        "print(\"After filling missing values:\\n\", df_filled)"
      ],
      "metadata": {
        "id": "9ToMY3Pno95Z",
        "colab": {
          "base_uri": "https://localhost:8080/"
        },
        "outputId": "1a540ede-d706-4dec-bf3e-8fee88c42caf"
      },
      "execution_count": null,
      "outputs": [
        {
          "output_type": "stream",
          "name": "stdout",
          "text": [
            "After filling missing values:\n",
            "       Name        Age        Salary\n",
            "0    Alice  25.000000  50000.000000\n",
            "1      Bob  33.333333  60000.000000\n",
            "2  Charlie  35.000000  63333.333333\n",
            "3    David  40.000000  80000.000000\n"
          ]
        }
      ]
    },
    {
      "cell_type": "code",
      "source": [
        "# Drop rows with missing values\n",
        "df_dropped = df_missing.dropna()\n",
        "print(\"After dropping missing values:\\n\", df_dropped)"
      ],
      "metadata": {
        "id": "4UUqM3nnpAFZ",
        "colab": {
          "base_uri": "https://localhost:8080/"
        },
        "outputId": "6c339616-4f1d-4693-afe7-874d560a4b7e"
      },
      "execution_count": null,
      "outputs": [
        {
          "output_type": "stream",
          "name": "stdout",
          "text": [
            "After dropping missing values:\n",
            "     Name   Age   Salary\n",
            "0  Alice  25.0  50000.0\n",
            "3  David  40.0  80000.0\n"
          ]
        }
      ]
    },
    {
      "cell_type": "markdown",
      "source": [
        "## Grouping and Aggregation\n",
        "\n",
        "Pandas can group data by categories (like pivot tables in Excel).  \n",
        "\n",
        "- `df.groupby(\"column\")` → Groups by unique values of a column.  \n",
        "- Then you can apply aggregation functions like `.mean()`, `.sum()`, `.count()`.  \n",
        "\n",
        "Example:\n",
        "- Find average salary per department.\n"
      ],
      "metadata": {
        "id": "DFrMlF_7pf27"
      }
    },
    {
      "cell_type": "code",
      "source": [
        "# Add a new column Department\n",
        "df[\"Department\"] = [\"HR\", \"IT\", \"IT\", \"HR\"]\n",
        "\n",
        "print(\"DataFrame with Department column:\\n\", df)"
      ],
      "metadata": {
        "id": "I16WVZlvpjDN",
        "colab": {
          "base_uri": "https://localhost:8080/"
        },
        "outputId": "f3e05238-4737-417e-d318-f9620846077a"
      },
      "execution_count": null,
      "outputs": [
        {
          "output_type": "stream",
          "name": "stdout",
          "text": [
            "DataFrame with Department column:\n",
            "       Name  Age  Salary Department\n",
            "0    Alice   25   50000         HR\n",
            "1      Bob   30   60000         IT\n",
            "2  Charlie   35   70000         IT\n",
            "3    David   40   80000         HR\n"
          ]
        }
      ]
    },
    {
      "cell_type": "code",
      "source": [
        "# Group by Department and compute mean\n",
        "print(\"Average salary per department:\\n\", df.groupby(\"Department\")[\"Salary\"].mean())"
      ],
      "metadata": {
        "id": "z5VPeLAEpryZ",
        "colab": {
          "base_uri": "https://localhost:8080/"
        },
        "outputId": "874c928b-0936-40ae-f23e-592b42e94bd3"
      },
      "execution_count": null,
      "outputs": [
        {
          "output_type": "stream",
          "name": "stdout",
          "text": [
            "Average salary per department:\n",
            " Department\n",
            "HR    65000.0\n",
            "IT    65000.0\n",
            "Name: Salary, dtype: float64\n"
          ]
        }
      ]
    },
    {
      "cell_type": "markdown",
      "source": [
        "## Sorting Data\n",
        "\n",
        "We can sort rows in Pandas using:\n",
        "- `df.sort_values(by=\"column\")` → Sorts ascending (default).  \n",
        "- `df.sort_values(by=\"column\", ascending=False)` → Sorts descending.  \n",
        "\n",
        "Examples:\n",
        "- Sort employees by Age.  \n",
        "- Sort employees by Salary in descending order."
      ],
      "metadata": {
        "id": "ioaF1ARTqCXC"
      }
    },
    {
      "cell_type": "code",
      "source": [
        "# Sort by Age\n",
        "print(df.sort_values(by=\"Age\"))"
      ],
      "metadata": {
        "id": "VmqjQAcUqB1V",
        "colab": {
          "base_uri": "https://localhost:8080/"
        },
        "outputId": "043a47b6-dbcd-4a99-82fd-6a2225b6a7f6"
      },
      "execution_count": null,
      "outputs": [
        {
          "output_type": "stream",
          "name": "stdout",
          "text": [
            "      Name  Age  Salary Department\n",
            "0    Alice   25   50000         HR\n",
            "1      Bob   30   60000         IT\n",
            "2  Charlie   35   70000         IT\n",
            "3    David   40   80000         HR\n"
          ]
        }
      ]
    },
    {
      "cell_type": "code",
      "source": [
        "# Sort by Salary (descending)\n",
        "print(df.sort_values(by=\"Salary\", ascending=False))"
      ],
      "metadata": {
        "id": "SnIwA5vSqVjH",
        "colab": {
          "base_uri": "https://localhost:8080/"
        },
        "outputId": "01cb425e-a50c-4ced-86c1-2bebd058465c"
      },
      "execution_count": null,
      "outputs": [
        {
          "output_type": "stream",
          "name": "stdout",
          "text": [
            "      Name  Age  Salary Department\n",
            "3    David   40   80000         HR\n",
            "2  Charlie   35   70000         IT\n",
            "1      Bob   30   60000         IT\n",
            "0    Alice   25   50000         HR\n"
          ]
        }
      ]
    },
    {
      "cell_type": "markdown",
      "source": [
        "## Merging DataFrames\n",
        "\n",
        "In ML projects, data often comes from multiple tables.  \n",
        "We can combine them using `pd.merge()` (similar to SQL joins).  \n",
        "\n",
        "Example:\n",
        "- Employee info in one table.  \n",
        "- Bonus info in another table.  \n",
        "- Merge them on the \"Name\" column."
      ],
      "metadata": {
        "id": "54zpstARqulL"
      }
    },
    {
      "cell_type": "code",
      "source": [
        "# Another DataFrame with bonus info\n",
        "bonus = pd.DataFrame({\n",
        "    \"Name\": [\"Alice\", \"Bob\", \"Charlie\", \"David\"],\n",
        "    \"Bonus\": [2000, 3000, 4000, 5000]\n",
        "})"
      ],
      "metadata": {
        "id": "AkfnFrmoqx7E"
      },
      "execution_count": null,
      "outputs": []
    },
    {
      "cell_type": "code",
      "source": [
        "# Merge on Name\n",
        "df_merged = pd.merge(df, bonus, on=\"Name\")\n",
        "print(df_merged)"
      ],
      "metadata": {
        "id": "8afRBEqOrKjL",
        "colab": {
          "base_uri": "https://localhost:8080/"
        },
        "outputId": "fd2b6ef5-8c53-4c5b-9069-dcd3b1b10497"
      },
      "execution_count": null,
      "outputs": [
        {
          "output_type": "stream",
          "name": "stdout",
          "text": [
            "      Name  Age  Salary Department  Bonus\n",
            "0    Alice   25   50000         HR   2000\n",
            "1      Bob   30   60000         IT   3000\n",
            "2  Charlie   35   70000         IT   4000\n",
            "3    David   40   80000         HR   5000\n"
          ]
        }
      ]
    },
    {
      "cell_type": "markdown",
      "source": [
        "# Summary\n",
        "\n",
        "We practiced Pandas basics step by step:\n",
        "\n",
        "- Filtering rows using conditions.  \n",
        "- Descriptive statistics.  \n",
        "- Reading and writing CSVs.  \n",
        "- Handling missing data.  \n",
        "- Grouping and aggregation.  \n",
        "- Sorting data.  \n",
        "- Merging DataFrames.  \n",
        "\n",
        "These operations are the foundation of **data preprocessing in ML**.  "
      ],
      "metadata": {
        "id": "Ym-lR9sSrYCC"
      }
    },
    {
      "cell_type": "markdown",
      "source": [
        "## PRACTICE EXERCISES"
      ],
      "metadata": {
        "id": "u-uObLWss55N"
      }
    },
    {
      "cell_type": "code",
      "source": [
        "# Sample students grades dataset\n",
        "data = {\n",
        "    \"Student\": [\"Ahmed\", \"Fatima\", \"Hassan\", \"Ayesha\", \"Bilal\", \"Sara\", \"Imran\", \"Zainab\"],\n",
        "    \"Math\": [85, 78, 92, 70, 88, 60, 95, 80],\n",
        "    \"Physics\": [90, 75, 85, 65, 92, 58, 97, 82],\n",
        "    \"Chemistry\": [88, 80, 89, 72, 85, 55, 94, 78],\n",
        "    \"Section\": [\"A\", \"B\", \"A\", \"B\", \"A\", \"B\", \"A\", \"B\"]\n",
        "}\n",
        "\n",
        "df_students = pd.DataFrame(data)\n",
        "print(df_students)\n"
      ],
      "metadata": {
        "id": "7MUWjHfQs-zt"
      },
      "execution_count": null,
      "outputs": []
    },
    {
      "cell_type": "markdown",
      "source": [
        "### Exercise 1: Filtering Rows\n",
        "\n",
        "Select all students who scored **more than 85 in Math**.\n"
      ],
      "metadata": {
        "id": "y5axPb7ItNpf"
      }
    },
    {
      "cell_type": "code",
      "source": [],
      "metadata": {
        "id": "Uysfn_5KtPW-"
      },
      "execution_count": null,
      "outputs": []
    },
    {
      "cell_type": "markdown",
      "source": [
        "### Exercise 2: Descriptive Statistics\n",
        "\n",
        "Compute the **average score in Physics and Chemistry** for the whole class."
      ],
      "metadata": {
        "id": "buhWmKDgtSZg"
      }
    },
    {
      "cell_type": "code",
      "source": [],
      "metadata": {
        "id": "MfOHdfkOtZi7"
      },
      "execution_count": null,
      "outputs": []
    },
    {
      "cell_type": "markdown",
      "source": [
        "### Exercise 3: Handling Missing Data\n",
        "\n",
        "Suppose the Chemistry score for \"Bilal\" is missing (NaN). Fill it with the **average Chemistry score**.\n",
        "\n",
        "- Hint: First set the value to NaN: df.loc[row_index, \"Chemistry\"] = np.nan"
      ],
      "metadata": {
        "id": "NJd0Pop7tbip"
      }
    },
    {
      "cell_type": "code",
      "source": [],
      "metadata": {
        "id": "VKqn_cJ0ty5H"
      },
      "execution_count": null,
      "outputs": []
    },
    {
      "cell_type": "markdown",
      "source": [
        "### Exercise 4: Grouping and Aggregation\n",
        "\n",
        "Compute the **average Math score per Section**.\n"
      ],
      "metadata": {
        "id": "kSXPZGktt5Rr"
      }
    },
    {
      "cell_type": "code",
      "source": [],
      "metadata": {
        "id": "ddZIIQLXuGTe"
      },
      "execution_count": null,
      "outputs": []
    },
    {
      "cell_type": "markdown",
      "source": [
        "### Exercise 5: Sorting and Adding New Column\n",
        "\n",
        "1. Add a new column `Total` = sum of Math + Physics + Chemistry.  \n",
        "2. Sort the DataFrame by `Total` in descending order.\n"
      ],
      "metadata": {
        "id": "lhyFMyBduMJw"
      }
    },
    {
      "cell_type": "code",
      "source": [],
      "metadata": {
        "id": "O_I-5t6guQSD"
      },
      "execution_count": null,
      "outputs": []
    }
  ]
}