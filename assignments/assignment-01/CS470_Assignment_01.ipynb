{
  "nbformat": 4,
  "nbformat_minor": 0,
  "metadata": {
    "colab": {
      "provenance": []
    },
    "kernelspec": {
      "name": "python3",
      "display_name": "Python 3"
    },
    "language_info": {
      "name": "python"
    }
  },
  "cells": [
    {
      "cell_type": "markdown",
      "source": [
        "# Instructions\n",
        "- Answer all questions **in this notebook only**.  \n",
        "- For each section, write your code in the provided empty cells.  \n",
        "- Add comments and short explanations wherever needed.  \n",
        "- You may use only the following libraries:\n",
        "  - `numpy`, `pandas`, `matplotlib`, `seaborn`\n",
        "- **Do not use** pre-built model functions such as `LinearRegression` or `LogisticRegression` from sklearn — implement gradient descent manually.\n",
        "- Display outputs, plots, and results clearly.\n",
        "- Read submission instructions document before submitting.\n",
        "\n",
        "\n"
      ],
      "metadata": {
        "id": "0jdAeVVxwGFk"
      }
    },
    {
      "cell_type": "markdown",
      "source": [
        "## Part A: Linear Regression (25 marks)"
      ],
      "metadata": {
        "id": "sqWZVjr8wcjK"
      }
    },
    {
      "cell_type": "markdown",
      "source": [
        "### A1-Derivation (10 marks)"
      ],
      "metadata": {
        "id": "Ep4JX3-fwh10"
      }
    },
    {
      "cell_type": "markdown",
      "source": [
        "### Question A1 – Hand Solution\n",
        "Derive the gradient descent update rule for Linear Regression with cost function:\n",
        "J(θ) = (1/2m) Σ (h_θ(xᵢ) - yᵢ)²\n",
        "\n",
        "Show all steps:\n",
        "1. Derive ∂J/∂θ_j\n",
        "2. Write the update rule for each parameter.\n",
        "3. Using the update rule, update all the four paramters (bias and three features) for problem A2 below. Use last 4 digits of your registration number as initial values of parameters. e.g. for registration number 501248, use θ_0 = 1.0, θ_1 = 2.0, θ_2 = 4.0, and θ_3 = 8.0. Perfrom parameters update for two steps and show how the cost decreases as the parameters are updated. For hand-written solution, use only first 10 samples (m=10)."
      ],
      "metadata": {
        "id": "4uLH0HwOwu5C"
      }
    },
    {
      "cell_type": "code",
      "source": [],
      "metadata": {
        "id": "blZrRBQlw3U7"
      },
      "execution_count": null,
      "outputs": []
    },
    {
      "cell_type": "code",
      "source": [],
      "metadata": {
        "id": "54zNWytFw3FU"
      },
      "execution_count": null,
      "outputs": []
    },
    {
      "cell_type": "markdown",
      "source": [
        "### A2 – Linear Regression on Real Dataset (15 marks)"
      ],
      "metadata": {
        "id": "0_Z_5ceZxocO"
      }
    },
    {
      "cell_type": "markdown",
      "source": [
        "### Question A2 – Linear Regression Implementation\n",
        "\n",
        "**Task:**\n",
        "1. Load the dataset (`student_data.csv` provided).\n",
        "2. Select features: `studytime`, `absences`, `failures`\n",
        "   - Target: `G3`\n",
        "3. Implement Linear Regression from scratch using gradient descent.\n",
        "4. Plot:\n",
        "   - Predicted vs Actual grades\n",
        "   - Cost vs Iteration (convergence plot)\n",
        "5. Compute RMSE.\n",
        "6. Comment: Does the model underfit or overfit?\n",
        "\n",
        "*Dataset Source: UCI Machine Learning Repository ( [Student Performance Dataset](https://archive.ics.uci.edu/dataset/320/student+performance))*\n",
        "\n",
        "*Feel free to explore the features description. You may also explore other datasets on this repository under Datasets*"
      ],
      "metadata": {
        "id": "_CbiacTFw4Q9"
      }
    },
    {
      "cell_type": "code",
      "execution_count": null,
      "metadata": {
        "id": "75IvtQWDv-QS"
      },
      "outputs": [],
      "source": [
        "# Task-1"
      ]
    },
    {
      "cell_type": "code",
      "source": [
        "# Task-2"
      ],
      "metadata": {
        "id": "1-bz97iuxCek"
      },
      "execution_count": null,
      "outputs": []
    },
    {
      "cell_type": "code",
      "source": [
        "# Task-3"
      ],
      "metadata": {
        "id": "idWyOJY5xFEM"
      },
      "execution_count": null,
      "outputs": []
    },
    {
      "cell_type": "code",
      "source": [
        "# Task-4"
      ],
      "metadata": {
        "id": "K7XLwzVgxIkd"
      },
      "execution_count": null,
      "outputs": []
    },
    {
      "cell_type": "code",
      "source": [
        "# Task-5"
      ],
      "metadata": {
        "id": "be7fB7RNxK_J"
      },
      "execution_count": null,
      "outputs": []
    },
    {
      "cell_type": "code",
      "source": [
        "# Task-6"
      ],
      "metadata": {
        "id": "s3EiY_QexM5s"
      },
      "execution_count": null,
      "outputs": []
    },
    {
      "cell_type": "markdown",
      "source": [
        "## Part B: Logistic Regression (25 marks)"
      ],
      "metadata": {
        "id": "nY3BVKT1xQlH"
      }
    },
    {
      "cell_type": "markdown",
      "source": [
        "### B1 – Visualization and Intuition (10 marks)"
      ],
      "metadata": {
        "id": "KgPIiF0LyAhz"
      }
    },
    {
      "cell_type": "markdown",
      "source": [
        "### Question B1 – Logistic Function and Decision Boundary\n",
        "1. Write the sigmoid function in Python.\n",
        "2. Plot σ(t) vs t for t ∈ [-10, 10].\n",
        "3. Explain in 2–3 lines what the sigmoid curve represents in logistic regression.\n"
      ],
      "metadata": {
        "id": "Z4-0j9Fpx809"
      }
    },
    {
      "cell_type": "code",
      "source": [
        "# === Student Cell: Implement and plot sigmoid ===\n",
        "import numpy as np\n",
        "import matplotlib.pyplot as plt\n",
        "\n",
        "# your code here\n"
      ],
      "metadata": {
        "id": "U2euYXUwyYkc"
      },
      "execution_count": null,
      "outputs": []
    },
    {
      "cell_type": "markdown",
      "source": [
        "Write your short explanation here:\n",
        "\n",
        "... Edit here\n"
      ],
      "metadata": {
        "id": "48fwWkeUyfKw"
      }
    },
    {
      "cell_type": "markdown",
      "source": [
        "### B2 – Binary Classification Using Logistic Regression (15 marks)"
      ],
      "metadata": {
        "id": "658E_a_CyuGa"
      }
    },
    {
      "cell_type": "markdown",
      "source": [
        "### Question B2 – Logistic Regression Implementation\n",
        "\n",
        "**Task:**\n",
        "1. Convert target variable `G3` to binary:\n",
        "   - y = 1 if G3 ≥ 10\n",
        "   - y = 0 otherwise\n",
        "2. Use features `studytime` and `failures`.\n",
        "3. Implement Logistic Regression using gradient descent.\n",
        "4. Plot:\n",
        "   - Decision boundary\n",
        "   - Cost vs Iteration\n",
        "5. Compute training accuracy.\n",
        "6. Comment on your model’s predictions."
      ],
      "metadata": {
        "id": "MD4H7XHQywva"
      }
    },
    {
      "cell_type": "code",
      "source": [
        "# Task-1"
      ],
      "metadata": {
        "id": "tbQqo3J8y5UB"
      },
      "execution_count": null,
      "outputs": []
    },
    {
      "cell_type": "code",
      "source": [
        "# Task-2"
      ],
      "metadata": {
        "id": "uuLoKy96y7zq"
      },
      "execution_count": null,
      "outputs": []
    },
    {
      "cell_type": "code",
      "source": [
        "# Task-3"
      ],
      "metadata": {
        "id": "WJZKGl11zCZB"
      },
      "execution_count": null,
      "outputs": []
    },
    {
      "cell_type": "code",
      "source": [
        "# Task-4"
      ],
      "metadata": {
        "id": "dQgUU5uizDpJ"
      },
      "execution_count": null,
      "outputs": []
    },
    {
      "cell_type": "code",
      "source": [
        "# Task-5"
      ],
      "metadata": {
        "id": "Pl0Qo6lwzGAk"
      },
      "execution_count": null,
      "outputs": []
    },
    {
      "cell_type": "markdown",
      "source": [
        "Write your observations below:\n",
        "- Did your model classify correctly?\n",
        "- What kind of errors did you notice?\n",
        "\n",
        "... Edit here"
      ],
      "metadata": {
        "id": "gc7f4bEVzK2G"
      }
    },
    {
      "cell_type": "markdown",
      "source": [
        "## Part C: Softmax Regression (25 marks)"
      ],
      "metadata": {
        "id": "0Uega5JJzP1o"
      }
    },
    {
      "cell_type": "markdown",
      "source": [
        "### C1 – Theory (10 marks)"
      ],
      "metadata": {
        "id": "MujNfJoJzZpQ"
      }
    },
    {
      "cell_type": "markdown",
      "source": [
        "### Question C1 – Softmax Regression Derivation\n",
        "\n",
        "Write the cost function (cross-entropy) for K-class classification and derive the gradient update rule.\n",
        "\n",
        "Again, using the initial values as per last 3 digits of your registration number, perform 2 steps of parameters update for three class classification problem in C2 below. Use 10 data points (m=10) for handwritten solution.\n"
      ],
      "metadata": {
        "id": "vXNncPGgzjkT"
      }
    },
    {
      "cell_type": "markdown",
      "source": [
        "### C2 – Multiclass Classification Using Softmax (15 marks)"
      ],
      "metadata": {
        "id": "gp1VZh8bztCW"
      }
    },
    {
      "cell_type": "markdown",
      "source": [
        "### Question C2 – Softmax Regression on Student Dataset\n",
        "\n",
        "**Task:**\n",
        "1. Create 3 classes:\n",
        "   - Low (G3 < 8)\n",
        "   - Medium (8 ≤ G3 < 14)\n",
        "   - High (G3 ≥ 14)\n",
        "2. Use features `studytime` and `failures`.\n",
        "3. Implement Softmax Regression using gradient descent.\n",
        "4. Plot:\n",
        "   - 2D decision boundaries\n",
        "   - Confusion Matrix\n",
        "5. Discuss overlapping regions between classes."
      ],
      "metadata": {
        "id": "7mFuBaZFz4b9"
      }
    },
    {
      "cell_type": "code",
      "source": [
        "# Task-1"
      ],
      "metadata": {
        "id": "Is3qtTTcz87F"
      },
      "execution_count": null,
      "outputs": []
    },
    {
      "cell_type": "code",
      "source": [
        "# Task-2"
      ],
      "metadata": {
        "id": "lgq2GcN4z_kV"
      },
      "execution_count": null,
      "outputs": []
    },
    {
      "cell_type": "code",
      "source": [
        "# Task-3"
      ],
      "metadata": {
        "id": "GE475g-T0BGM"
      },
      "execution_count": null,
      "outputs": []
    },
    {
      "cell_type": "code",
      "source": [
        "# Task-4"
      ],
      "metadata": {
        "id": "thYZHPf00CrH"
      },
      "execution_count": null,
      "outputs": []
    },
    {
      "cell_type": "markdown",
      "source": [
        "Discuss your results:\n",
        "- Which classes overlap the most?\n",
        "- Why do you think misclassifications happen?\n",
        "\n",
        "... Edit here"
      ],
      "metadata": {
        "id": "IqTG1Edv0GUR"
      }
    },
    {
      "cell_type": "markdown",
      "source": [
        "## Part D: Classification Metrics (25 marks)"
      ],
      "metadata": {
        "id": "te76gcp40MZ0"
      }
    },
    {
      "cell_type": "markdown",
      "source": [
        "### D1 - Classification Metrics (15 Marks)"
      ],
      "metadata": {
        "id": "uyv28vLy0aRy"
      }
    },
    {
      "cell_type": "markdown",
      "source": [
        "### Question D1 – Classification Metrics\n",
        "\n",
        "Using your Logistic Regression model:\n",
        "1. Compute the following metrics:\n",
        "   - Confusion Matrix\n",
        "   - Precision\n",
        "   - Recall\n",
        "   - F1-Score\n",
        "   - ROC-AUC\n",
        "2. Plot ROC Curve and compute AUC."
      ],
      "metadata": {
        "id": "LiRojbvr0S-8"
      }
    },
    {
      "cell_type": "code",
      "source": [
        "# Task-1"
      ],
      "metadata": {
        "id": "LHN8bt3g0sRY"
      },
      "execution_count": null,
      "outputs": []
    },
    {
      "cell_type": "code",
      "source": [
        "# Task-2"
      ],
      "metadata": {
        "id": "eDU7l5p90vsk"
      },
      "execution_count": null,
      "outputs": []
    },
    {
      "cell_type": "markdown",
      "source": [
        "### D2 – Conceptual Questions (10 Marks)"
      ],
      "metadata": {
        "id": "ZKBjLe6v01xY"
      }
    },
    {
      "cell_type": "markdown",
      "source": [
        "### Question D2 – Conceptual Questions\n",
        "1. Why is accuracy not always a reliable measure?\n",
        "2. What is the trade-off between Precision and Recall?\n",
        "3. Why should AUC be close to 1 for a good classifier?\n"
      ],
      "metadata": {
        "id": "BpAmSFGN0xiY"
      }
    }
  ]
}